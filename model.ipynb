{
 "cells": [
  {
   "cell_type": "markdown",
   "metadata": {},
   "source": [
    "Aprendizaje Automático - Práctica 2\n",
    "Autores: RICARDO ANTONIO PAZOS VALERO - 100472303 / VICENTE ANTONIO BARBATO - 10043114"
   ]
  },
  {
   "cell_type": "markdown",
   "metadata": {},
   "source": [
    "# 1. K-Means\n",
    "---\n",
    "Programamos el algoritmo K-means y comparamos nuestra implementación con la implementación de sklearn"
   ]
  },
  {
   "cell_type": "code",
   "execution_count": 1,
   "metadata": {},
   "outputs": [
    {
     "name": "stdout",
     "output_type": "stream",
     "text": [
      "   Temperature         L       R    A_M Color Spectral_Class\n",
      "0         3068  0.002400  0.1700  16.12   Red              M\n",
      "1         3042  0.000500  0.1542  16.60   Red              M\n",
      "2         2600  0.000300  0.1020  18.70   Red              M\n",
      "3         2800  0.000200  0.1600  16.65   Red              M\n",
      "4         1939  0.000138  0.1030  20.06   Red              M\n"
     ]
    }
   ],
   "source": [
    "# Importamos\n",
    "import numpy as np\n",
    "import pandas as pd\n",
    "# import matplotlib.pylot as plt\n",
    "\n",
    "# Cargamos los datos\n",
    "data = pd.read_csv('data/stars_data.csv')\n",
    "\n",
    "# Definimos nuestro conjunto de datos\n",
    "\n"
   ]
  }
 ],
 "metadata": {
  "kernelspec": {
   "display_name": "Python 3",
   "language": "python",
   "name": "python3"
  },
  "language_info": {
   "codemirror_mode": {
    "name": "ipython",
    "version": 3
   },
   "file_extension": ".py",
   "mimetype": "text/x-python",
   "name": "python",
   "nbconvert_exporter": "python",
   "pygments_lexer": "ipython3",
   "version": "3.12.2"
  }
 },
 "nbformat": 4,
 "nbformat_minor": 2
}
