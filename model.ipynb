{
 "cells": [
  {
   "cell_type": "markdown",
   "metadata": {},
   "source": [
    "Aprendizaje Automático - Práctica 2\n",
    "Autores: RICARDO ANTONIO PAZOS VALERO - 100472303 / VICENTE ANTONIO BARBATO - 10043114"
   ]
  },
  {
   "cell_type": "markdown",
   "metadata": {},
   "source": [
    "# 1. K-Means\n",
    "---\n",
    "Programamos el algoritmo K-means y comparamos nuestra implementación con la implementación de sklearn"
   ]
  },
  {
   "cell_type": "code",
   "execution_count": 24,
   "metadata": {},
   "outputs": [
    {
     "name": "stdout",
     "output_type": "stream",
     "text": [
      "Cluster centers for one-hot encoded data:\n",
      "[[-0.41884518 -0.52136177 -0.45337807  0.70720499 -0.33823072  0.13900961\n",
      "   0.08679261  0.04312308 -0.3485618  -0.09166985  0.04312308  0.04312308\n",
      "   0.30345287  0.03301503  0.04312308  0.06111323  0.04312308  0.07500586\n",
      "   0.07500586  0.12379689  0.06111323 -0.06172869 -0.04587143  0.18406905\n",
      "  -0.06468462  0.01779202  0.31198982 -0.4472136 ]\n",
      " [ 0.1107731   0.44081553  1.19504385 -1.0745122  -0.50789337 -0.20851441\n",
      "  -0.13018891 -0.06468462  1.20060175  0.3157517  -0.06468462 -0.06468462\n",
      "  -0.08166316  0.0467713  -0.06468462 -0.09166985 -0.06468462 -0.11250879\n",
      "  -0.11250879 -0.18569534 -0.09166985  0.39266305  0.40696195 -0.27610357\n",
      "   0.22280259  0.07709874 -0.11049639 -0.4472136 ]\n",
      " [ 1.29361805  1.22076325  0.01795413 -1.04318715  1.81265393 -0.20851441\n",
      "  -0.13018891 -0.06468462 -0.3485618  -0.09166985 -0.06468462 -0.06468462\n",
      "  -0.93541435 -0.17332893 -0.06468462 -0.09166985 -0.06468462 -0.11250879\n",
      "  -0.11250879 -0.18569534 -0.09166985 -0.29321127 -0.36596331 -0.27610357\n",
      "  -0.06468462 -0.16012815 -0.92761259  2.10829266]]\n",
      "\n",
      "Cluster centers for ordinal encoded data:\n",
      "[[ 0.57812838 -0.02601665 -0.41605294 -0.1759562  -0.92761259  0.36735402]\n",
      " [-0.76846499 -0.47362485 -0.45001792  0.8085787   1.07803625 -0.4472136 ]\n",
      " [ 0.0934104   1.15555069  2.22178267 -1.33990795  0.20377907 -0.03440105]]\n"
     ]
    }
   ],
   "source": [
    "# Importamos\n",
    "import numpy as np\n",
    "import pandas as pd\n",
    "from sklearn.preprocessing import scale, OneHotEncoder, OrdinalEncoder\n",
    "# import matplotlib.pylot as plt\n",
    "\n",
    "# Cargamos los datos\n",
    "data = pd.read_csv('data/stars_data.csv')\n",
    "\n",
    "# Definimos nuestro conjunto de datos\n",
    "X = data.values\n",
    "\n",
    "# Copiamos el conjunto de datos original para preservarlo\n",
    "X_onehot = X.copy()\n",
    "X_ordinal = X.copy()\n",
    "\n",
    "# Codificamos valores de tipo str (color y clase espectral)\n",
    "# One-Hot Encoder\n",
    "encoder_onehot = OneHotEncoder(sparse_output=False)\n",
    "X_onehot_encoded = encoder_onehot.fit_transform(X_onehot[:, -2:])\n",
    "\n",
    "# Eliminamos filas tipo str - One Hot\n",
    "X_onehot = X_onehot[:, :-2]\n",
    "\n",
    "# Concatenamos las nuevas filas codificadas - One Hot\n",
    "X_onehot = np.concatenate((X_onehot, X_onehot_encoded), axis=1)\n",
    "\n",
    "# Ordinal Encoder\n",
    "encoder_ordinal = OrdinalEncoder()\n",
    "X_ordinal_encoded = encoder_ordinal.fit_transform(X_onehot[:, -2:])\n",
    "\n",
    "# Eliminamos filas tipo str - Ordinal\n",
    "X_ordinal = X_ordinal[:, :-2]\n",
    "\n",
    "# Concatenamos las nuevas filas codificadas - Ordinal\n",
    "X_ordinal = np.concatenate((X_ordinal, X_ordinal_encoded), axis=1)\n",
    "\n",
    "# Escalamos los datos\n",
    "X_onehot_scaled = scale(X_onehot)\n",
    "X_ordinal_scaled = scale(X_ordinal)\n",
    "\n",
    "from sklearn.cluster import KMeans\n",
    "\n",
    "# Definimos el número de clusters\n",
    "n_clusters = 4\n",
    "\n",
    "# KMeans con one hot encoded data\n",
    "kmeans_onehot = KMeans(n_clusters=n_clusters, random_state=42)\n",
    "kmeans_onehot.fit(X_onehot_scaled)\n",
    "\n",
    "# KMeans con ordinal encoded data\n",
    "kmeans_ordinal = KMeans(n_clusters=n_clusters, random_state=42)\n",
    "kmeans_ordinal.fit(X_ordinal_scaled)\n",
    "\n",
    "# Obtenemos los labels de los clusters\n",
    "labels_onehot = kmeans_onehot.labels_\n",
    "labels_ordinal = kmeans_ordinal.labels_\n",
    "\n",
    "# Imprimimos los centroides\n",
    "print(\"Cluster centers for one-hot encoded data:\")\n",
    "print(kmeans_onehot.cluster_centers_)\n",
    "print(\"\\nCluster centers for ordinal encoded data:\")\n",
    "print(kmeans_ordinal.cluster_centers_)\n",
    "\n",
    "\n"
   ]
  }
 ],
 "metadata": {
  "kernelspec": {
   "display_name": "Python 3",
   "language": "python",
   "name": "python3"
  },
  "language_info": {
   "codemirror_mode": {
    "name": "ipython",
    "version": 3
   },
   "file_extension": ".py",
   "mimetype": "text/x-python",
   "name": "python",
   "nbconvert_exporter": "python",
   "pygments_lexer": "ipython3",
   "version": "3.12.2"
  }
 },
 "nbformat": 4,
 "nbformat_minor": 2
}
